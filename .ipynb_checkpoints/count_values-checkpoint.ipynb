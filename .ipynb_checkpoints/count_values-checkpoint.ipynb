{
 "cells": [
  {
   "cell_type": "code",
   "execution_count": 2,
   "metadata": {},
   "outputs": [],
   "source": [
    "import pandas as pd\n",
    "import numpy as np"
   ]
  },
  {
   "cell_type": "code",
   "execution_count": 11,
   "metadata": {},
   "outputs": [],
   "source": [
    "class ReadFile:\n",
    "\n",
    "    def __init__(self, filepath):\n",
    "        self.name = filepath[7:-3]\n",
    "        self.filepath = filepath\n",
    "\n",
    "    def print_counts(self):\n",
    "        arr = np.genfromtxt('./data/AAL_X_corr.csv', delimiter=',')\n",
    "        total_values = arr.size\n",
    "        positive_values = (arr > 0).sum()\n",
    "        negative_values = (arr < 0).sum()\n",
    "        percentage_positive = (positive_values / total_values) * 100\n",
    "        percentage_negative = (negative_values / total_values) * 100\n",
    "        \n",
    "        print(\"File Name: \\n\", self.name)\n",
    "        print(\"Total values:\", total_values)\n",
    "        print(\"Positive values:\", positive_values)\n",
    "        print(\"Negative values:\", negative_values)\n",
    "        print(\"Percentage of positive values:\", percentage_positive, \"%\")\n",
    "        print(\"Percentage of negative values:\", percentage_negative, \"%\")\n",
    "\n"
   ]
  },
  {
   "cell_type": "code",
   "execution_count": 12,
   "metadata": {},
   "outputs": [
    {
     "name": "stdout",
     "output_type": "stream",
     "text": [
      "File Name:  AAL_X_corr.\n",
      "Total values: 5910606\n",
      "Positive values: 5271882\n",
      "Negative values: 622226\n",
      "Percentage of positive values: 89.19359537752982 %\n",
      "Percentage of negative values: 10.527279267134368 %\n"
     ]
    }
   ],
   "source": [
    "data1 = ReadFile(\"./data/AAL_X_corr.csv\")\n",
    "data1.print_counts()"
   ]
  },
  {
   "cell_type": "code",
   "execution_count": null,
   "metadata": {},
   "outputs": [],
   "source": []
  }
 ],
 "metadata": {
  "kernelspec": {
   "display_name": "Python 3 (ipykernel)",
   "language": "python",
   "name": "python3"
  },
  "language_info": {
   "codemirror_mode": {
    "name": "ipython",
    "version": 3
   },
   "file_extension": ".py",
   "mimetype": "text/x-python",
   "name": "python",
   "nbconvert_exporter": "python",
   "pygments_lexer": "ipython3",
   "version": "3.11.8"
  }
 },
 "nbformat": 4,
 "nbformat_minor": 4
}
